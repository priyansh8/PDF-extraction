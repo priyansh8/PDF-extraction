{
 "cells": [
  {
   "cell_type": "code",
   "execution_count": 7,
   "metadata": {},
   "outputs": [
    {
     "name": "stdout",
     "output_type": "stream",
     "text": [
      " - 1 -     FINAL TERMS\n",
      " OF CANADIAN IMPERIAL BANK OF COMMERCE \n",
      " 5 YEAR FIXED RATE SENIOR NOTES\n",
      "    Serial Number:\n",
      "  7277  ISIN:\n",
      "  CA13607GFB55\n",
      "  Principal Amount\n",
      ":  C$1,500,000,000\n",
      "  Issue Date\n",
      ":  August 28, 2019\n",
      "  \n",
      "Maturity Date\n",
      ":  August 28, 2024\n",
      "  Issue Pr\n",
      "ice:\n",
      " 100\n",
      "%     Coupon Rate:\n",
      "  \n",
      "2.35%\n",
      "  \n",
      "Interest Payment Dates:\n",
      " Interest will be paid half\n",
      "-yearly in arrears on the \n",
      "28th day of each \n",
      "February\n",
      " and \n",
      "August\n",
      "; commencing \n",
      "February 28, 2020\n",
      ", and ending on the Maturity Date. If a day that would \n",
      "otherwise have been an \n",
      "Interest Payment Date is not a Business Day, such Interest Payment Date shall be the first following day that is a \n",
      "Business Day, and no further interest or other payment will be made in respect of such delay.  \n",
      "  Redemption\n",
      ": The \n",
      "Senior Notes are\n",
      " not redeemab\n",
      "le prior to maturity.\n",
      " The foregoing notwithstanding, any \n",
      "redemption (for any reason) or purchase of the Senior Notes by the Bank will be subject to the condition that if \n",
      "such redemption or purchase would lead to a breach of the Bank™s TLAC requirements suc\n",
      "h redemption or purchase \n",
      "will be subject to the prior approval of the Superintendent.\n",
      " \n",
      " Status:\n",
      " The Senior Notes will be direct unsecured liabilities of CIBC ranking pari passu with all other unsecured \n",
      "and unsubordinated debt of CIBC. The Senior Notes do no\n",
      "t constitute deposits that are insured under the CDIC Act.\n",
      "  \n",
      "Bail\n",
      "-inable:\n",
      " The Senior Notes are bail\n",
      "-inable notes subject to conversion in whole or in part \n",
      "Œ by means of a \n",
      "transaction or series of transactions and in one or more steps \n",
      "Œ into common shares of\n",
      " the Bank or any of its \n",
      "affiliates under subsection 39.2(2.3) of the CDIC Act and to variation or extinguishment in consequence (ﬁbail\n",
      "-in \n",
      "conversionﬂ). Despite any other terms of the Senior Notes or laws governing the Senior Notes or any other \n",
      "agreement, a\n",
      "rrangement or understanding with respect to the Senior Notes, each holder or beneficial owner of a \n",
      "Senior Note is bound by the CDIC Act, including the bail\n",
      "-in conversion, is subject to the application of the laws of \n",
      "the Province of Ontario and the federal \n",
      "laws of Canada applicable therein in respect of the operation of the CDIC \n",
      "\n",
      "Act with respect to the Senior Notes, and attorns to the jurisdiction of the courts in the Province of Ontario. For a \n",
      "description of Canadian bank resolution powers and the consequen\n",
      "t risk factors attaching to the Senior Notes \n",
      "\n",
      "reference is made to \n",
      " https://www.cibc.com/content/dam/about_cibc/investor_relations/pdfs/debt_info/disclosures/canadian\n",
      "-bail\n",
      "-in\n",
      "-website\n",
      "-disclosure\n",
      "-en.pdf which information is hereby incorporated by reference.\n",
      "  \n",
      "Subsequent Holders:\n",
      " Each holder or beneficial owner of a Senior Note that acquires an interest in the Senior \n",
      "Note in the secondary market and any successors, assigns, heirs, executors, administrators, trustees in bankruptcy \n",
      "\n",
      "and legal representatives of any\n",
      " such holder or beneficial owner shall be deemed to acknowledge, accept, agree to \n",
      "be bound by and consent to the same provisions specified in the Senior Note to the same extent as the holders or \n",
      "\n",
      "beneficial owners that acquire an interest in the Senior Note\n",
      " upon its initial issuance, including, without limitation, \n",
      "with respect to the acknowledgement and agreement to be bound by and consent to the terms of the Senior Note \n",
      "\n",
      "related to the bail\n",
      "-in regime.\n",
      "   - 2 - Events of Default:\n",
      " Non\n",
      "-payment of principal and interest\n",
      " when due for a period of 30 business days and acts of \n",
      "insolvency. Default rights may not be exercised where an order has been made pursuant to s. 39.13(1) of the CDIC \n",
      "Act in respect of the Bank. The Senior Notes will remain subject to bail\n",
      "-in conversion u\n",
      "ntil repaid in full.\n",
      "  \n",
      "Business Day:\n",
      " Any day on which commercial banks are open for business (including dealings in foreign exchange \n",
      "and foreign currency deposits) in Toronto, Canada.\n",
      "  Discharge: \n",
      "CIBC will be discharged from its obligations under \n",
      "a Senior\n",
      " Note by paying to the holder \n",
      "or beneficial \n",
      "owner of the Senior Note \n",
      "all amounts stated to be payable on the terms set out herein. CIBC reserves the right to \n",
      "require surrender of \n",
      "the Senior\n",
      " Note to CIBC prior to making any final payment hereunder.\n",
      "  \n",
      "Book Entr\n",
      "y Only System:\n",
      " The \n",
      "Senior Notes\n",
      " will be evidenced by a single \n",
      "global note\n",
      " held by CDS, or its nominee \n",
      "on its behalf, as registered holder of the \n",
      "global note\n",
      ". Registration and transfers of interests in \n",
      "the Senior Notes\n",
      " will \n",
      "be made only through the Book Ent\n",
      "ry Only system of CDS. \n",
      "The Senior Notes\n",
      " must be purchased either directly or \n",
      "indirectly through a participant in the CDS Book Entry Only system. Subject to certain limited exceptions, no holder \n",
      "will be entitled to any certificate or other instrument from C\n",
      "IBC or CDS evidencing the ownership thereof, and no \n",
      "holder will be shown on the records maintained by CDS except through an agent who is a participant of CDS.\n",
      "  Severability: \n",
      "Each provision of \n",
      "a Senior\n",
      " Note shall be treated as separate and distinct and if a\n",
      "ny provision \n",
      "a \n",
      "Senior\n",
      " Note is held to be unenforceable or invalid for any reason, it shall be modified, to the fullest extent \n",
      "permitted by law, in order to achieve, to the extent possible, the intent of CIBC and the holder or, if unable to be \n",
      "\n",
      "modified, to \n",
      "be ineffective only to the extent of each unenforceable or invalid provision, without affecting the \n",
      "enforceability or validity of the remaining provisions.\n",
      "  \n",
      "Set\n",
      "-Off:\n",
      " The holders and beneficial owners of the Senior Notes will not be entitled to exercise, or\n",
      " direct the \n",
      "exercise of, any set\n",
      "-off or netting rights with respect to the Senior Notes.\n",
      "  Governing Law:\n",
      " Ontario and the federal laws of Canada applicable therein.\n",
      "  \n",
      "Attornment:\n",
      " Courts of the Province of Ontario.\n",
      "  \n",
      " \n"
     ]
    }
   ],
   "source": [
    "from nltk.corpus import stopwords\n",
    "from nltk import word_tokenize\n",
    "from nltk.tokenize import sent_tokenize\n",
    "import re\n",
    "import spacy\n",
    "\n",
    "# modules for \n",
    "import PyPDF2\n",
    "# pdf file object\n",
    "# you can find find the pdf file with complete code in below\n",
    "pdfFileObj = open('E:\\\\projects\\\\feature extraction\\\\Documents\\\\New folder\\\\CA13607GFB55.pdf', 'rb')\n",
    "# pdf reader object\n",
    "pdfReader = PyPDF2.PdfFileReader(pdfFileObj)\n",
    "# number of pages in pdf\n",
    "# print(pdfReader.numPages)\n",
    "# a page object\n",
    "pageObj = pdfReader.getPage(0)\n",
    "# extracting text from page.\n",
    "# this will print the text you can also save that into String\n",
    "text = pageObj.extractText()\n",
    "#print(text)\n",
    "\n",
    "##tokens = word_tokenize(text)\n",
    "##\n",
    "##stopwords = stopwords.words('english')\n",
    "##\n",
    "##stopwords.extend([\".\",\"(\",\")\",\"\\\"\",\"-\",\":\"])\n",
    "##\n",
    "##nostop = [w for w in tokens if w not in stopwords]\n",
    "##\n",
    "##print(nostop)\n",
    "\n",
    "fulldoc = \"\"\n",
    "i=0\n",
    "while i<pdfReader.getNumPages():\n",
    "    pageinfo = pdfReader.getPage(i)\n",
    "    fulldoc+=pageinfo.extractText()\n",
    "    i = i+1\n",
    "print(fulldoc)\n",
    "\n",
    "\n",
    "# docarr = sent_tokenize(fulldoc)\n",
    "# print(docarr)\n",
    "\n",
    "# text1 = [w for w in text.split()]\n",
    "# print(text1)\n",
    "# stopwords = stopwords.words('english')\n",
    "\n",
    "# stopwords.extend([\".\",\"(\",\")\",\"\\\"\",\"-\",\":\"])\n",
    "\n",
    "# nostop = [w for w in text1 if w not in stopwords]\n",
    "\n",
    "# print(nostop)\n"
   ]
  },
  {
   "cell_type": "code",
   "execution_count": 27,
   "metadata": {
    "scrolled": false
   },
   "outputs": [
    {
     "name": "stdout",
     "output_type": "stream",
     "text": [
      "['E:\\\\projects\\\\feature extraction\\\\Documents\\\\CA13607GFB55.pdf', 'E:\\\\projects\\\\feature extraction\\\\Documents\\\\INE001A07RY1.pdf']\n"
     ]
    }
   ],
   "source": [
    "from os import path\n",
    "from glob import glob  \n",
    "import PyPDF2\n",
    "def find_ext(dr, ext):\n",
    "    return glob(path.join(dr,\"*.{}\".format(ext)))\n",
    "\n",
    "listOfDoc = find_ext('E:\\\\projects\\\\feature extraction\\\\Documents\\\\',\"pdf\")\n",
    "print(listOfDoc)\n",
    "scanlist = []\n",
    "for i in range(len(listOfDoc)):\n",
    "    try:\n",
    "        pdfFileObj = open(listOfDoc[i], 'rb')\n",
    "        # pdf reader object\n",
    "        pdfReader = PyPDF2.PdfFileReader(pdfFileObj)\n",
    "        # number of pages in pdf\n",
    "#         print(pdfReader.numPages)\n",
    "#         # a page object\n",
    "#         pageObj = pdfReader.getPage(0)\n",
    "#         # extracting text from page.\n",
    "#         # this will print the text you can also save that into String\n",
    "#         text = pageObj.extractText()\n",
    "#         #print(text)\n",
    "        fulldoc = \"\"\n",
    "        allTextOfDoc = []\n",
    "        j=0\n",
    "        while j<pdfReader.getNumPages():\n",
    "            pageinfo = pdfReader.getPage(j)\n",
    "            fulldoc+=pageinfo.extractText()\n",
    "            j = j+1\n",
    "        allTextOfDoc.append(fulldoc)\n",
    "    except:\n",
    "        scanlist.append(listOfDoc[i])\n",
    "        print(\"An exception occurred\")"
   ]
  },
  {
   "cell_type": "code",
   "execution_count": 9,
   "metadata": {
    "scrolled": true
   },
   "outputs": [
    {
     "name": "stdout",
     "output_type": "stream",
     "text": [
      "[' - 1 -     FINAL TERMS\\n OF CANADIAN IMPERIAL BANK OF COMMERCE \\n 5 YEAR FIXED RATE SENIOR NOTES\\n    Serial Number:\\n  7277  ISIN:\\n  CA13607GFB55\\n  Principal Amount\\n:  C$1,500,000,000\\n  Issue Date\\n:  August 28, 2019\\n  \\nMaturity Date\\n:  August 28, 2024\\n  Issue Pr\\nice:\\n 100\\n%     Coupon Rate:\\n  \\n2.35%\\n  \\nInterest Payment Dates:\\n Interest will be paid half\\n-yearly in arrears on the \\n28th day of each \\nFebruary\\n and \\nAugust\\n; commencing \\nFebruary 28, 2020\\n, and ending on the Maturity Date. If a day that would \\notherwise have been an \\nInterest Payment Date is not a Business Day, such Interest Payment Date shall be the first following day that is a \\nBusiness Day, and no further interest or other payment will be made in respect of such delay.  \\n  Redemption\\n: The \\nSenior Notes are\\n not redeemab\\nle prior to maturity.\\n The foregoing notwithstanding, any \\nredemption (for any reason) or purchase of the Senior Notes by the Bank will be subject to the condition that if \\nsuch redemption or purchase would lead to a breach of the Bank™s TLAC requirements suc\\nh redemption or purchase \\nwill be subject to the prior approval of the Superintendent.\\n \\n Status:\\n The Senior Notes will be direct unsecured liabilities of CIBC ranking pari passu with all other unsecured \\nand unsubordinated debt of CIBC. The Senior Notes do no\\nt constitute deposits that are insured under the CDIC Act.\\n  \\nBail\\n-inable:\\n The Senior Notes are bail\\n-inable notes subject to conversion in whole or in part \\nŒ by means of a \\ntransaction or series of transactions and in one or more steps \\nŒ into common shares of\\n the Bank or any of its \\naffiliates under subsection 39.2(2.3) of the CDIC Act and to variation or extinguishment in consequence (ﬁbail\\n-in \\nconversionﬂ). Despite any other terms of the Senior Notes or laws governing the Senior Notes or any other \\nagreement, a\\nrrangement or understanding with respect to the Senior Notes, each holder or beneficial owner of a \\nSenior Note is bound by the CDIC Act, including the bail\\n-in conversion, is subject to the application of the laws of \\nthe Province of Ontario and the federal \\nlaws of Canada applicable therein in respect of the operation of the CDIC \\n\\nAct with respect to the Senior Notes, and attorns to the jurisdiction of the courts in the Province of Ontario. For a \\ndescription of Canadian bank resolution powers and the consequen\\nt risk factors attaching to the Senior Notes \\n\\nreference is made to \\n https://www.cibc.com/content/dam/about_cibc/investor_relations/pdfs/debt_info/disclosures/canadian\\n-bail\\n-in\\n-website\\n-disclosure\\n-en.pdf which information is hereby incorporated by reference.\\n  \\nSubsequent Holders:\\n Each holder or beneficial owner of a Senior Note that acquires an interest in the Senior \\nNote in the secondary market and any successors, assigns, heirs, executors, administrators, trustees in bankruptcy \\n\\nand legal representatives of any\\n such holder or beneficial owner shall be deemed to acknowledge, accept, agree to \\nbe bound by and consent to the same provisions specified in the Senior Note to the same extent as the holders or \\n\\nbeneficial owners that acquire an interest in the Senior Note\\n upon its initial issuance, including, without limitation, \\nwith respect to the acknowledgement and agreement to be bound by and consent to the terms of the Senior Note \\n\\nrelated to the bail\\n-in regime.\\n   - 2 - Events of Default:\\n Non\\n-payment of principal and interest\\n when due for a period of 30 business days and acts of \\ninsolvency. Default rights may not be exercised where an order has been made pursuant to s. 39.13(1) of the CDIC \\nAct in respect of the Bank. The Senior Notes will remain subject to bail\\n-in conversion u\\nntil repaid in full.\\n  \\nBusiness Day:\\n Any day on which commercial banks are open for business (including dealings in foreign exchange \\nand foreign currency deposits) in Toronto, Canada.\\n  Discharge: \\nCIBC will be discharged from its obligations under \\na Senior\\n Note by paying to the holder \\nor beneficial \\nowner of the Senior Note \\nall amounts stated to be payable on the terms set out herein. CIBC reserves the right to \\nrequire surrender of \\nthe Senior\\n Note to CIBC prior to making any final payment hereunder.\\n  \\nBook Entr\\ny Only System:\\n The \\nSenior Notes\\n will be evidenced by a single \\nglobal note\\n held by CDS, or its nominee \\non its behalf, as registered holder of the \\nglobal note\\n. Registration and transfers of interests in \\nthe Senior Notes\\n will \\nbe made only through the Book Ent\\nry Only system of CDS. \\nThe Senior Notes\\n must be purchased either directly or \\nindirectly through a participant in the CDS Book Entry Only system. Subject to certain limited exceptions, no holder \\nwill be entitled to any certificate or other instrument from C\\nIBC or CDS evidencing the ownership thereof, and no \\nholder will be shown on the records maintained by CDS except through an agent who is a participant of CDS.\\n  Severability: \\nEach provision of \\na Senior\\n Note shall be treated as separate and distinct and if a\\nny provision \\na \\nSenior\\n Note is held to be unenforceable or invalid for any reason, it shall be modified, to the fullest extent \\npermitted by law, in order to achieve, to the extent possible, the intent of CIBC and the holder or, if unable to be \\n\\nmodified, to \\nbe ineffective only to the extent of each unenforceable or invalid provision, without affecting the \\nenforceability or validity of the remaining provisions.\\n  \\nSet\\n-Off:\\n The holders and beneficial owners of the Senior Notes will not be entitled to exercise, or\\n direct the \\nexercise of, any set\\n-off or netting rights with respect to the Senior Notes.\\n  Governing Law:\\n Ontario and the federal laws of Canada applicable therein.\\n  \\nAttornment:\\n Courts of the Province of Ontario.\\n  \\n ']\n"
     ]
    }
   ],
   "source": [
    "print((allTextOfDoc))"
   ]
  },
  {
   "cell_type": "code",
   "execution_count": 10,
   "metadata": {},
   "outputs": [],
   "source": [
    "import re\n"
   ]
  },
  {
   "cell_type": "code",
   "execution_count": 12,
   "metadata": {},
   "outputs": [],
   "source": [
    "fulldoc = fulldoc.replace('\\n',' ')\n",
    "fulldoc = re.sub(r' +',' ', fulldoc)\n",
    "# print(fulldoc)\n",
    "docarr = sent_tokenize(fulldoc)\n",
    "# print(docarr)\n",
    "li1 = []\n",
    "for i in docarr:\n",
    "    if(re.findall(\"issue\", i, re.IGNORECASE)):\n",
    "        li1.append(i) "
   ]
  },
  {
   "cell_type": "code",
   "execution_count": 8,
   "metadata": {},
   "outputs": [
    {
     "name": "stdout",
     "output_type": "stream",
     "text": [
      "[' PRICING TERM SHEET BMW US Capital, LLC U.S.$ 1,000 ,000,000 3.100 % Notes due 2021 U.S.$ 1,000 ,000,000 3.450 % Notes due 2023 U.S.$ 750 ,000,000 3.750 % Notes due 2028 U.S.$ 750 ,000,000 Floating Rate Notes due 2021 Guaranteed by Bayerische Motoren Werke Aktieng esellschaft Issuer: Issuer Guarantor: Bayerische Motoren Werke Aktiengesellschaft (the Guarantor Securities: 3.100 % Notes due 2021 2021 Notes 3.450 % Notes due 2023 2023 Notes 3.750 % Notes due 2028 2028 Notes with the 2021 Notes and the 2023 Fixed Rate Notes F loating Rate Notes due 2021 Floating Rate Notes Principal Amount: 2021 Notes: U.S.$1,000 ,000,000 2023 Notes: U.S.$1,000 ,000,000 2028 Notes: U.S.$750 ,000,000 Floating Rate Notes: U.S.$750 ,000,000 Distribution: Rule 144A/Regulation S Denominations: U.S.$ 2,000 and integral multiples of U.S.$1,000 in excess thereof.', 'Ranking: Unsecured and unsubordinated obligations of the Issuer.', 'Expected Ratings 1 : A1 (stable outlook) S&P: A+ (stable outlook) Trade Date: April 5 , 2018 Issue Date: April 12 , 2018 (T+5 ) Maturity Date: 20 21 Notes: April 12 , 2021 2 023 Notes: April 12 , 2023 2028 Notes: April 12 , 2028 Floating Rate Notes: April 12 , 20 21 Issue Price: 202 1 Notes: 99.940 % of the principal amount 1 A securities rating is not a recommendation to buy, sell or hold securities and may be subject to revision or withdrawal at any time .', 'Benchmark Treasury: 2021 Notes : T+ 68 bp s 2023 Notes : T+ 83 bp s 2028 Notes: T+ 93 bp s Reoffer Yield: 2021 Notes : 3.121 % 2023 Notes : 3.466 % 2028 Notes: 3.760 % Interest Payment Dates: Interest payments at the Interest Rates on the Fixed Rate Notes are payable semi - annually in arrears on April 12 and October 12 of each year, commencin g on October 12 , 2018 Interest payments at the Interest Rate on the Floating Rate Notes are payable quarterly in arrears on January 12 , April 12 , July 12 and October 12 of each year, commencing on July 12 , 2018 Optional Redemption of the Notes: 2021 Notes : Make - whole call at Treasury Rate + 12 bp s 20 23 Notes: (i) prior to March 12, 2023 : Make - whole call at Treasury Rate + 15 bp s ; (ii) after March 12, 2023 , at par plus accrued interest 20 28 Notes: (i) prior to January 12 , 2028 : Make - whole call at Treasury Rate + 15 bp s ; (ii) after January 12, 2028 , at par plus accrued interest Otherwise, for tax reasons only Day Count: Fixed Rate Notes: 30/360 Floating Rate Notes: Actual/360 Day Count Convention: Fixed Rate Notes: Following business day Floating Rate Note s: Modified following business day Form of Notes: Registered book - entry through DTC 3 Joint Bookrunners and Initial Purchasers: Barclays Capital Inc. Citigroup Global Markets Inc. Credit Agricole Securities (USA) Inc. TD Securities (USA) LLC Wells Fargo Se curities, LLC Security Codes: 2021 Notes: CUSIP: 144A: 05565E AU9 Reg S: U09513 HF9 ISIN: 144A: US05565EAU91 Reg S: USU09513HF91 2023 Notes: CUSIP: 144A: 05565E AW5 Reg S: U09513 HH5 ISIN: 144A: US05565EAW57 Reg S: USU09513HH57 2028 Notes: CUSIP: 14 4A: 05565E AY1 Reg S: U09513 HK8 ISIN: 144A: US05565EAY14 Reg S: USU09513HK86 Floating Rate Notes: CUSIP: 144A: 05565E AV7 Reg S: U09513 HG7 ISIN: 144A: US05565EAV74 Reg S: USU09513HG74 The Issuer has prepared a preliminary offering memorandum date d April 5 , 2018 reference to the Preliminary Offering Memorandum.', 'Before you invest in the N otes, you should read the Preli minary Offering Memorandum , including the documents incorporated by reference therein, for more information concerning the Issuer, the Guarantor and the Notes.']\n"
     ]
    }
   ],
   "source": [
    "print(li1)"
   ]
  },
  {
   "cell_type": "code",
   "execution_count": 26,
   "metadata": {},
   "outputs": [
    {
     "name": "stdout",
     "output_type": "stream",
     "text": [
      "[' - 1 - FINAL TERMS OF CANADIAN IMPERIAL BANK OF COMMERCE 5 YEAR FIXED RATE SENIOR NOTES Serial Number: 7277 ISIN: CA13607GFB55 Principal Amount : C$1,500,000,000 Issue Date : August 28, 2019 Maturity Date : August 28, 2024 Issue Pr ice: 100 % Coupon Rate: 2.35% Interest Payment Dates: Interest will be paid half -yearly in arrears on the 28th day of each February and August ; commencing February 28, 2020 , and ending on the Maturity Date.', 'Redemption : The Senior Notes are not redeemab le prior to maturity.', 'The foregoing notwithstanding, any redemption (for any reason) or purchase of the Senior Notes by the Bank will be subject to the condition that if such redemption or purchase would lead to a breach of the Bank™s TLAC requirements suc h redemption or purchase will be subject to the prior approval of the Superintendent.', 'Status: The Senior Notes will be direct unsecured liabilities of CIBC ranking pari passu with all other unsecured and unsubordinated debt of CIBC.', 'The Senior Notes do no t constitute deposits that are insured under the CDIC Act.', 'Bail -inable: The Senior Notes are bail -inable notes subject to conversion in whole or in part Œ by means of a transaction or series of transactions and in one or more steps Œ into common shares of the Bank or any of its affiliates under subsection 39.2(2.3) of the CDIC Act and to variation or extinguishment in consequence (ﬁbail -in conversionﬂ).', 'Despite any other terms of the Senior Notes or laws governing the Senior Notes or any other agreement, a rrangement or understanding with respect to the Senior Notes, each holder or beneficial owner of a Senior Note is bound by the CDIC Act, including the bail -in conversion, is subject to the application of the laws of the Province of Ontario and the federal laws of Canada applicable therein in respect of the operation of the CDIC Act with respect to the Senior Notes, and attorns to the jurisdiction of the courts in the Province of Ontario.', 'For a description of Canadian bank resolution powers and the consequen t risk factors attaching to the Senior Notes reference is made to https://www.cibc.com/content/dam/about_cibc/investor_relations/pdfs/debt_info/disclosures/canadian -bail -in -website -disclosure -en.pdf which information is hereby incorporated by reference.', 'Subsequent Holders: Each holder or beneficial owner of a Senior Note that acquires an interest in the Senior Note in the secondary market and any successors, assigns, heirs, executors, administrators, trustees in bankruptcy and legal representatives of any such holder or beneficial owner shall be deemed to acknowledge, accept, agree to be bound by and consent to the same provisions specified in the Senior Note to the same extent as the holders or beneficial owners that acquire an interest in the Senior Note upon its initial issuance, including, without limitation, with respect to the acknowledgement and agreement to be bound by and consent to the terms of the Senior Note related to the bail -in regime.', 'The Senior Notes will remain subject to bail -in conversion u ntil repaid in full.', 'Discharge: CIBC will be discharged from its obligations under a Senior Note by paying to the holder or beneficial owner of the Senior Note all amounts stated to be payable on the terms set out herein.', 'CIBC reserves the right to require surrender of the Senior Note to CIBC prior to making any final payment hereunder.', 'Book Entr y Only System: The Senior Notes will be evidenced by a single global note held by CDS, or its nominee on its behalf, as registered holder of the global note .', 'Registration and transfers of interests in the Senior Notes will be made only through the Book Ent ry Only system of CDS.', 'The Senior Notes must be purchased either directly or indirectly through a participant in the CDS Book Entry Only system.', 'Severability: Each provision of a Senior Note shall be treated as separate and distinct and if a ny provision a Senior Note is held to be unenforceable or invalid for any reason, it shall be modified, to the fullest extent permitted by law, in order to achieve, to the extent possible, the intent of CIBC and the holder or, if unable to be modified, to be ineffective only to the extent of each unenforceable or invalid provision, without affecting the enforceability or validity of the remaining provisions.', 'Set -Off: The holders and beneficial owners of the Senior Notes will not be entitled to exercise, or direct the exercise of, any set -off or netting rights with respect to the Senior Notes.']\n",
      "17\n"
     ]
    }
   ],
   "source": [
    "li2 = []\n",
    "for i in docarr:\n",
    "    if(re.findall(\"senior\", i, re.IGNORECASE)):\n",
    "        li2.append(i) \n",
    "        \n",
    "print(li2)\n",
    "print(len(li2))"
   ]
  },
  {
   "cell_type": "code",
   "execution_count": 25,
   "metadata": {},
   "outputs": [
    {
     "name": "stdout",
     "output_type": "stream",
     "text": [
      "['Status: The Senior Notes will be direct unsecured liabilities of CIBC ranking pari passu with all other unsecured and unsubordinated debt of CIBC.']\n"
     ]
    }
   ],
   "source": [
    "li3 = []\n",
    "for i in docarr:\n",
    "    if(re.findall(\"secure\", i, re.IGNORECASE)):\n",
    "        li3.append(i) \n",
    "        \n",
    "print(li3)"
   ]
  },
  {
   "cell_type": "code",
   "execution_count": 15,
   "metadata": {},
   "outputs": [
    {
     "name": "stdout",
     "output_type": "stream",
     "text": [
      "File Name: CA13607GFB55.pdf\n",
      "Folder Path: E:\\Documents\\CA13607GFB55.pdf\n",
      "File Name: CA136375CR16.pdf\n",
      "Folder Path: E:\\Documents\\CA136375CR16.pdf\n",
      "File Name: DE000A2AASD0.pdf\n",
      "Folder Path: E:\\Documents\\DE000A2AASD0.pdf\n",
      "File Name: DE000DB2G1N9.pdf\n",
      "Folder Path: E:\\Documents\\DE000DB2G1N9.pdf\n",
      "File Name: FR0012686145.pdf\n",
      "Folder Path: E:\\Documents\\FR0012686145.pdf\n",
      "File Name: INE001A07RY1.pdf\n",
      "Folder Path: E:\\Documents\\INE001A07RY1.pdf\n",
      "File Name: INE033L07EO0.pdf\n",
      "Folder Path: E:\\Documents\\INE033L07EO0.pdf\n",
      "File Name: INE296A07QW3.pdf\n",
      "Folder Path: E:\\Documents\\INE296A07QW3.pdf\n",
      "File Name: INE848E07AQ9.pdf\n",
      "Folder Path: E:\\Documents\\INE848E07AQ9.pdf\n",
      "File Name: INE857Q08024.pdf\n",
      "Folder Path: E:\\Documents\\INE857Q08024.pdf\n",
      "File Name: INE915D07I80.pdf\n",
      "Folder Path: E:\\Documents\\INE915D07I80.pdf\n",
      "File Name: IT0005220998.pdf\n",
      "Folder Path: E:\\Documents\\IT0005220998.pdf\n",
      "File Name: IT0005390841.pdf\n",
      "Folder Path: E:\\Documents\\IT0005390841.pdf\n",
      "File Name: NO0010867864.pdf\n",
      "Folder Path: E:\\Documents\\NO0010867864.pdf\n",
      "File Name: PTBBRROE0048.pdf\n",
      "Folder Path: E:\\Documents\\PTBBRROE0048.pdf\n",
      "File Name: SE0012193860.pdf\n",
      "Folder Path: E:\\Documents\\SE0012193860.pdf\n",
      "File Name: SE0012455400.pdf\n",
      "Folder Path: E:\\Documents\\SE0012455400.pdf\n",
      "File Name: SE0013109444.pdf\n",
      "Folder Path: E:\\Documents\\SE0013109444.pdf\n",
      "File Name: US06048WUR95.pdf\n",
      "Folder Path: E:\\Documents\\US06048WUR95.pdf\n",
      "File Name: US163086AA92.pdf\n",
      "Folder Path: E:\\Documents\\US163086AA92.pdf\n",
      "File Name: US17275RBD35.pdf\n",
      "Folder Path: E:\\Documents\\US17275RBD35.pdf\n",
      "File Name: US17324CED48.pdf\n",
      "Folder Path: E:\\Documents\\US17324CED48.pdf\n",
      "File Name: US22535KAA16.pdf\n",
      "Folder Path: E:\\Documents\\US22535KAA16.pdf\n",
      "File Name: US341081FR38.pdf\n",
      "Folder Path: E:\\Documents\\US341081FR38.pdf\n",
      "File Name: US4042K1VX80.pdf\n",
      "Folder Path: E:\\Documents\\US4042K1VX80.pdf\n",
      "File Name: US46646EX232.pdf\n",
      "Folder Path: E:\\Documents\\US46646EX232.pdf\n",
      "File Name: US842434CR16.pdf\n",
      "Folder Path: E:\\Documents\\US842434CR16.pdf\n",
      "File Name: US87246MAE21.pdf\n",
      "Folder Path: E:\\Documents\\US87246MAE21.pdf\n",
      "File Name: US87246MAG78.pdf\n",
      "Folder Path: E:\\Documents\\US87246MAG78.pdf\n",
      "File Name: US92564RAA32.pdf\n",
      "Folder Path: E:\\Documents\\US92564RAA32.pdf\n",
      "File Name: USG7000WAA56.pdf\n",
      "Folder Path: E:\\Documents\\USG7000WAA56.pdf\n",
      "File Name: USG7000WAB30.pdf\n",
      "Folder Path: E:\\Documents\\USG7000WAB30.pdf\n",
      "File Name: USL56473AA67.pdf\n",
      "Folder Path: E:\\Documents\\USL56473AA67.pdf\n",
      "File Name: USU0734DAA91.pdf\n",
      "Folder Path: E:\\Documents\\USU0734DAA91.pdf\n",
      "File Name: USU09513HK86.pdf\n",
      "Folder Path: E:\\Documents\\USU09513HK86.pdf\n",
      "File Name: USU1944MAB10.pdf\n",
      "Folder Path: E:\\Documents\\USU1944MAB10.pdf\n",
      "File Name: XS0809885162.pdf\n",
      "Folder Path: E:\\Documents\\XS0809885162.pdf\n",
      "File Name: XS1241063970.pdf\n",
      "Folder Path: E:\\Documents\\XS1241063970.pdf\n",
      "File Name: XS1243170617.pdf\n",
      "Folder Path: E:\\Documents\\XS1243170617.pdf\n",
      "File Name: XS1298740314.pdf\n",
      "Folder Path: E:\\Documents\\XS1298740314.pdf\n",
      "File Name: XS1380394806.pdf\n",
      "Folder Path: E:\\Documents\\XS1380394806.pdf\n",
      "File Name: XS1431266920.pdf\n",
      "Folder Path: E:\\Documents\\XS1431266920.pdf\n",
      "File Name: XS1484811135.pdf\n",
      "Folder Path: E:\\Documents\\XS1484811135.pdf\n",
      "File Name: XS1489761392.pdf\n",
      "Folder Path: E:\\Documents\\XS1489761392.pdf\n",
      "File Name: XS1498549325.pdf\n",
      "Folder Path: E:\\Documents\\XS1498549325.pdf\n",
      "File Name: XS1569804120.pdf\n",
      "Folder Path: E:\\Documents\\XS1569804120.pdf\n",
      "File Name: XS1633950453.pdf\n",
      "Folder Path: E:\\Documents\\XS1633950453.pdf\n",
      "File Name: XS1669141753.pdf\n",
      "Folder Path: E:\\Documents\\XS1669141753.pdf\n",
      "File Name: XS1700578724.pdf\n",
      "Folder Path: E:\\Documents\\XS1700578724.pdf\n",
      "File Name: XS1707681752.pdf\n",
      "Folder Path: E:\\Documents\\XS1707681752.pdf\n",
      "File Name: XS1882681536.pdf\n",
      "Folder Path: E:\\Documents\\XS1882681536.pdf\n",
      "File Name: XS2065975935.pdf\n",
      "Folder Path: E:\\Documents\\XS2065975935.pdf\n"
     ]
    }
   ],
   "source": [
    "import os\n",
    "\n",
    "folder_path = 'E:\\\\Documents'\n",
    "\n",
    "pdfFileName = []\n",
    "absoluteAdd = []\n",
    "\n",
    "def listDir(dir):\n",
    "    fileNames = os.listdir(dir)\n",
    "    #print(fileNames)\n",
    "    for fileName in fileNames:\n",
    "        if(fileName.split(\".\")[1] == 'pdf'):\n",
    "            pdfFileName.append(fileName)\n",
    "            absoluteAdd.append(os.path.abspath(os.path.join(dir, fileName)))\n",
    "            print('File Name: ' + fileName )\n",
    "            print('Folder Path: ' + os.path.abspath(os.path.join(dir, fileName)), sep='\\n')\n",
    "            \n",
    "listDir(folder_path)\n",
    "\n",
    "# print(pdfFileName)\n",
    "# print(absoluteAdd)"
   ]
  },
  {
   "cell_type": "code",
   "execution_count": 16,
   "metadata": {},
   "outputs": [
    {
     "name": "stdout",
     "output_type": "stream",
     "text": [
      "Status: The Senior Notes will be direct unsecured liabilities of CIBC ranking pari passu with all other unsecured and unsubordinated debt of CIBC.\n",
      "['Status:', 'The', 'Senior', 'Notes', 'will', 'be', 'direct', 'unsecured', 'liabilities', 'of', 'CIBC', 'ranking', 'pari', 'passu', 'with', 'all', 'other', 'unsecured', 'and', 'unsubordinated', 'debt', 'of', 'CIBC.']\n",
      "['Status:', 'The', 'Senior', 'Notes', 'direct', 'unsecured', 'liabilities', 'CIBC', 'ranking', 'pari', 'passu', 'unsecured', 'unsubordinated', 'debt', 'CIBC.']\n"
     ]
    }
   ],
   "source": [
    "for i in li3:\n",
    "    print(i)\n",
    "    text2 = [w for w in i.split()]\n",
    "    print(text2)\n",
    "    stopwords = stopwords.words('english')\n",
    "\n",
    "    stopwords.extend([\".\",\"(\",\")\",\"\\\"\",\"-\",\":\"])\n",
    "\n",
    "    nostop = [w for w in text2 if w not in stopwords]\n",
    "\n",
    "    print(nostop)"
   ]
  },
  {
   "cell_type": "code",
   "execution_count": 17,
   "metadata": {},
   "outputs": [],
   "source": [
    "from nltk import ne_chunk"
   ]
  },
  {
   "cell_type": "code",
   "execution_count": 18,
   "metadata": {},
   "outputs": [
    {
     "ename": "NameError",
     "evalue": "name 'nltk' is not defined",
     "output_type": "error",
     "traceback": [
      "\u001b[1;31m---------------------------------------------------------------------------\u001b[0m",
      "\u001b[1;31mNameError\u001b[0m                                 Traceback (most recent call last)",
      "\u001b[1;32m<ipython-input-18-c91e2a60db6c>\u001b[0m in \u001b[0;36m<module>\u001b[1;34m\u001b[0m\n\u001b[0;32m      2\u001b[0m \u001b[1;33m\u001b[0m\u001b[0m\n\u001b[0;32m      3\u001b[0m \u001b[0mne_tokens\u001b[0m \u001b[1;33m=\u001b[0m \u001b[0mword_tokenize\u001b[0m\u001b[1;33m(\u001b[0m\u001b[0mtest\u001b[0m\u001b[1;33m)\u001b[0m\u001b[1;33m\u001b[0m\u001b[1;33m\u001b[0m\u001b[0m\n\u001b[1;32m----> 4\u001b[1;33m \u001b[0mne_tags\u001b[0m \u001b[1;33m=\u001b[0m \u001b[0mnltk\u001b[0m\u001b[1;33m.\u001b[0m\u001b[0mpos_tag\u001b[0m\u001b[1;33m(\u001b[0m\u001b[0mne_tokens\u001b[0m\u001b[1;33m)\u001b[0m\u001b[1;33m\u001b[0m\u001b[1;33m\u001b[0m\u001b[0m\n\u001b[0m",
      "\u001b[1;31mNameError\u001b[0m: name 'nltk' is not defined"
     ]
    }
   ],
   "source": [
    "test = li1[0]\n",
    "\n",
    "ne_tokens = word_tokenize(test)\n",
    "ne_tags = nltk.pos_tag(ne_tokens)\n"
   ]
  },
  {
   "cell_type": "code",
   "execution_count": 19,
   "metadata": {},
   "outputs": [
    {
     "ename": "NameError",
     "evalue": "name 'ne_tags' is not defined",
     "output_type": "error",
     "traceback": [
      "\u001b[1;31m---------------------------------------------------------------------------\u001b[0m",
      "\u001b[1;31mNameError\u001b[0m                                 Traceback (most recent call last)",
      "\u001b[1;32m<ipython-input-19-29ce9a0d0162>\u001b[0m in \u001b[0;36m<module>\u001b[1;34m\u001b[0m\n\u001b[1;32m----> 1\u001b[1;33m \u001b[0mne_ner\u001b[0m \u001b[1;33m=\u001b[0m \u001b[0mne_chunk\u001b[0m\u001b[1;33m(\u001b[0m\u001b[0mne_tags\u001b[0m\u001b[1;33m)\u001b[0m\u001b[1;33m\u001b[0m\u001b[1;33m\u001b[0m\u001b[0m\n\u001b[0m\u001b[0;32m      2\u001b[0m \u001b[0mprint\u001b[0m\u001b[1;33m(\u001b[0m\u001b[0mne_ner\u001b[0m\u001b[1;33m)\u001b[0m\u001b[1;33m\u001b[0m\u001b[1;33m\u001b[0m\u001b[0m\n",
      "\u001b[1;31mNameError\u001b[0m: name 'ne_tags' is not defined"
     ]
    }
   ],
   "source": [
    "ne_ner = ne_chunk(ne_tags)\n",
    "print(ne_ner)"
   ]
  },
  {
   "cell_type": "code",
   "execution_count": 20,
   "metadata": {},
   "outputs": [
    {
     "name": "stderr",
     "output_type": "stream",
     "text": [
      "[nltk_data] Downloading package maxent_ne_chunker to\n",
      "[nltk_data]     C:\\Users\\hp\\AppData\\Roaming\\nltk_data...\n",
      "[nltk_data]   Package maxent_ne_chunker is already up-to-date!\n"
     ]
    },
    {
     "data": {
      "text/plain": [
       "True"
      ]
     },
     "execution_count": 20,
     "metadata": {},
     "output_type": "execute_result"
    }
   ],
   "source": [
    "import nltk\n",
    "nltk.download('maxent_ne_chunker')"
   ]
  },
  {
   "cell_type": "code",
   "execution_count": 21,
   "metadata": {},
   "outputs": [
    {
     "name": "stderr",
     "output_type": "stream",
     "text": [
      "[nltk_data] Downloading package words to\n",
      "[nltk_data]     C:\\Users\\hp\\AppData\\Roaming\\nltk_data...\n",
      "[nltk_data]   Package words is already up-to-date!\n"
     ]
    },
    {
     "data": {
      "text/plain": [
       "True"
      ]
     },
     "execution_count": 21,
     "metadata": {},
     "output_type": "execute_result"
    }
   ],
   "source": [
    "import nltk\n",
    "nltk.download('words')"
   ]
  },
  {
   "cell_type": "code",
   "execution_count": 22,
   "metadata": {},
   "outputs": [
    {
     "data": {
      "text/plain": [
       "[('-', ':'),\n",
       " ('1', 'CD'),\n",
       " ('-', ':'),\n",
       " ('FINAL', 'NN'),\n",
       " ('TERMS', 'NN'),\n",
       " ('OF', 'NNP'),\n",
       " ('CANADIAN', 'NNP'),\n",
       " ('IMPERIAL', 'NNP'),\n",
       " ('BANK', 'NNP'),\n",
       " ('OF', 'NNP'),\n",
       " ('COMMERCE', 'NNP'),\n",
       " ('5', 'CD'),\n",
       " ('YEAR', 'NNP'),\n",
       " ('FIXED', 'NNP'),\n",
       " ('RATE', 'NNP'),\n",
       " ('SENIOR', 'NNP'),\n",
       " ('NOTES', 'NNP'),\n",
       " ('Serial', 'NNP'),\n",
       " ('Number', 'NNP'),\n",
       " (':', ':'),\n",
       " ('7277', 'CD'),\n",
       " ('ISIN', 'NNP'),\n",
       " (':', ':'),\n",
       " ('CA13607GFB55', 'NNP'),\n",
       " ('Principal', 'NNP'),\n",
       " ('Amount', 'NNP'),\n",
       " (':', ':'),\n",
       " ('C', 'NNP'),\n",
       " ('$', '$'),\n",
       " ('1,500,000,000', 'CD'),\n",
       " ('Issue', 'NNP'),\n",
       " ('Date', 'NNP'),\n",
       " (':', ':'),\n",
       " ('August', 'NNP'),\n",
       " ('28', 'CD'),\n",
       " (',', ','),\n",
       " ('2019', 'CD'),\n",
       " ('Maturity', 'NNP'),\n",
       " ('Date', 'NNP'),\n",
       " (':', ':'),\n",
       " ('August', 'NNP'),\n",
       " ('28', 'CD'),\n",
       " (',', ','),\n",
       " ('2024', 'CD'),\n",
       " ('Issue', 'NNP'),\n",
       " ('Pr', 'NNP'),\n",
       " ('ice', 'NN'),\n",
       " (':', ':'),\n",
       " ('100', 'CD'),\n",
       " ('%', 'NN'),\n",
       " ('Coupon', 'NNP'),\n",
       " ('Rate', 'NNP'),\n",
       " (':', ':'),\n",
       " ('2.35', 'CD'),\n",
       " ('%', 'NN'),\n",
       " ('Interest', 'NNP'),\n",
       " ('Payment', 'NNP'),\n",
       " ('Dates', 'VBZ'),\n",
       " (':', ':'),\n",
       " ('Interest', 'NN'),\n",
       " ('will', 'MD'),\n",
       " ('be', 'VB'),\n",
       " ('paid', 'VBN'),\n",
       " ('half', 'DT'),\n",
       " ('-yearly', 'JJ'),\n",
       " ('in', 'IN'),\n",
       " ('arrears', 'NNS'),\n",
       " ('on', 'IN'),\n",
       " ('the', 'DT'),\n",
       " ('28th', 'JJ'),\n",
       " ('day', 'NN'),\n",
       " ('of', 'IN'),\n",
       " ('each', 'DT'),\n",
       " ('February', 'NNP'),\n",
       " ('and', 'CC'),\n",
       " ('August', 'NNP'),\n",
       " (';', ':'),\n",
       " ('commencing', 'VBG'),\n",
       " ('February', 'NNP'),\n",
       " ('28', 'CD'),\n",
       " (',', ','),\n",
       " ('2020', 'CD'),\n",
       " (',', ','),\n",
       " ('and', 'CC'),\n",
       " ('ending', 'VBG'),\n",
       " ('on', 'IN'),\n",
       " ('the', 'DT'),\n",
       " ('Maturity', 'NNP'),\n",
       " ('Date', 'NNP'),\n",
       " ('.', '.')]"
      ]
     },
     "execution_count": 22,
     "metadata": {},
     "output_type": "execute_result"
    }
   ],
   "source": [
    "new = nltk.pos_tag(word_tokenize(li1[0]))\n",
    "new"
   ]
  },
  {
   "cell_type": "code",
   "execution_count": 23,
   "metadata": {},
   "outputs": [
    {
     "name": "stdout",
     "output_type": "stream",
     "text": [
      "  SPACE _SP\n",
      "- PUNCT HYPH\n",
      "1 NUM CD\n",
      "- PUNCT HYPH\n",
      "FINAL NOUN NN\n",
      "TERMS NOUN NNS\n",
      "OF ADP IN\n",
      "CANADIAN ADJ JJ\n",
      "IMPERIAL PROPN NNP\n",
      "BANK PROPN NNP\n",
      "OF ADP IN\n",
      "COMMERCE PROPN NNP\n",
      "5 NUM CD\n",
      "YEAR NOUN NN\n",
      "FIXED NOUN NN\n",
      "RATE NOUN NN\n",
      "SENIOR PROPN NNP\n",
      "NOTES PROPN NNP\n",
      "Serial PROPN NNP\n",
      "Number NOUN NN\n",
      ": PUNCT :\n",
      "7277 NUM CD\n",
      "ISIN PROPN NNP\n",
      ": PUNCT :\n",
      "CA13607GFB55 PROPN NNP\n",
      "Principal PROPN NNP\n",
      "Amount PROPN NNP\n",
      ": PUNCT :\n",
      "C$ SYM $\n",
      "1,500,000,000 NUM CD\n",
      "Issue NOUN NN\n",
      "Date NOUN NN\n",
      ": PUNCT :\n",
      "August PROPN NNP\n",
      "28 NUM CD\n",
      ", PUNCT ,\n",
      "2019 NUM CD\n",
      "Maturity PROPN NNP\n",
      "Date PROPN NNP\n",
      ": PUNCT :\n",
      "August PROPN NNP\n",
      "28 NUM CD\n",
      ", PUNCT ,\n",
      "2024 NUM CD\n",
      "Issue NOUN NN\n",
      "Pr PROPN NNP\n",
      "ice NOUN NN\n",
      ": PUNCT :\n",
      "100 NUM CD\n",
      "% NOUN NN\n",
      "Coupon PROPN NNP\n",
      "Rate NOUN NN\n",
      ": PUNCT :\n",
      "2.35 NUM CD\n",
      "% NOUN NN\n",
      "Interest PROPN NNP\n",
      "Payment PROPN NNP\n",
      "Dates PROPN NNPS\n",
      ": PUNCT :\n",
      "Interest NOUN NN\n",
      "will VERB MD\n",
      "be AUX VB\n",
      "paid VERB VBN\n",
      "half DET PDT\n",
      "-yearly NUM CD\n",
      "in ADP IN\n",
      "arrears NOUN NNS\n",
      "on ADP IN\n",
      "the DET DT\n",
      "28th ADJ JJ\n",
      "day NOUN NN\n",
      "of ADP IN\n",
      "each DET DT\n",
      "February PROPN NNP\n",
      "and CCONJ CC\n",
      "August PROPN NNP\n",
      "; PUNCT :\n",
      "commencing VERB VBG\n",
      "February PROPN NNP\n",
      "28 NUM CD\n",
      ", PUNCT ,\n",
      "2020 NUM CD\n",
      ", PUNCT ,\n",
      "and CCONJ CC\n",
      "ending VERB VBG\n",
      "on ADP IN\n",
      "the DET DT\n",
      "Maturity PROPN NNP\n",
      "Date PROPN NNP\n",
      ". PUNCT .\n"
     ]
    }
   ],
   "source": [
    "import spacy\n",
    "\n",
    "nlp = spacy.load(\"en_core_web_sm\")\n",
    "doc = nlp(li1[0])\n",
    "for token in doc:\n",
    "    print(token.text, token.pos_, token.tag_)"
   ]
  },
  {
   "cell_type": "code",
   "execution_count": 3,
   "metadata": {
    "scrolled": true
   },
   "outputs": [
    {
     "ename": "ImportError",
     "evalue": "MagickWand shared library not found.\nYou probably had not installed ImageMagick library.\nTry to install:\n  http://docs.wand-py.org/en/latest/guide/install.html#install-imagemagick-on-windows",
     "output_type": "error",
     "traceback": [
      "\u001b[1;31m---------------------------------------------------------------------------\u001b[0m",
      "\u001b[1;31mOSError\u001b[0m                                   Traceback (most recent call last)",
      "\u001b[1;32m~\\Anaconda3\\lib\\site-packages\\wand\\api.py\u001b[0m in \u001b[0;36m<module>\u001b[1;34m\u001b[0m\n\u001b[0;32m    150\u001b[0m \u001b[1;32mtry\u001b[0m\u001b[1;33m:\u001b[0m\u001b[1;33m\u001b[0m\u001b[1;33m\u001b[0m\u001b[0m\n\u001b[1;32m--> 151\u001b[1;33m     \u001b[0mlibraries\u001b[0m \u001b[1;33m=\u001b[0m \u001b[0mload_library\u001b[0m\u001b[1;33m(\u001b[0m\u001b[1;33m)\u001b[0m\u001b[1;33m\u001b[0m\u001b[1;33m\u001b[0m\u001b[0m\n\u001b[0m\u001b[0;32m    152\u001b[0m \u001b[1;32mexcept\u001b[0m \u001b[1;33m(\u001b[0m\u001b[0mOSError\u001b[0m\u001b[1;33m,\u001b[0m \u001b[0mIOError\u001b[0m\u001b[1;33m)\u001b[0m\u001b[1;33m:\u001b[0m\u001b[1;33m\u001b[0m\u001b[1;33m\u001b[0m\u001b[0m\n",
      "\u001b[1;32m~\\Anaconda3\\lib\\site-packages\\wand\\api.py\u001b[0m in \u001b[0;36mload_library\u001b[1;34m()\u001b[0m\n\u001b[0;32m    139\u001b[0m         \u001b[1;32mreturn\u001b[0m \u001b[0mlibwand\u001b[0m\u001b[1;33m,\u001b[0m \u001b[0mlibmagick\u001b[0m\u001b[1;33m\u001b[0m\u001b[1;33m\u001b[0m\u001b[0m\n\u001b[1;32m--> 140\u001b[1;33m     \u001b[1;32mraise\u001b[0m \u001b[0mIOError\u001b[0m\u001b[1;33m(\u001b[0m\u001b[1;34m'cannot find library; tried paths: '\u001b[0m \u001b[1;33m+\u001b[0m \u001b[0mrepr\u001b[0m\u001b[1;33m(\u001b[0m\u001b[0mtried_paths\u001b[0m\u001b[1;33m)\u001b[0m\u001b[1;33m)\u001b[0m\u001b[1;33m\u001b[0m\u001b[1;33m\u001b[0m\u001b[0m\n\u001b[0m\u001b[0;32m    141\u001b[0m \u001b[1;33m\u001b[0m\u001b[0m\n",
      "\u001b[1;31mOSError\u001b[0m: cannot find library; tried paths: []",
      "\nDuring handling of the above exception, another exception occurred:\n",
      "\u001b[1;31mImportError\u001b[0m                               Traceback (most recent call last)",
      "\u001b[1;32m<ipython-input-3-977d8af1eec7>\u001b[0m in \u001b[0;36m<module>\u001b[1;34m\u001b[0m\n\u001b[0;32m      3\u001b[0m \u001b[1;32mfrom\u001b[0m \u001b[0mpil\u001b[0m \u001b[1;32mimport\u001b[0m \u001b[0mImage\u001b[0m\u001b[1;33m\u001b[0m\u001b[1;33m\u001b[0m\u001b[0m\n\u001b[0;32m      4\u001b[0m \u001b[1;32mimport\u001b[0m \u001b[0mpytesseract\u001b[0m\u001b[1;33m\u001b[0m\u001b[1;33m\u001b[0m\u001b[0m\n\u001b[1;32m----> 5\u001b[1;33m \u001b[1;32mfrom\u001b[0m \u001b[0mwand\u001b[0m\u001b[1;33m.\u001b[0m\u001b[0mimage\u001b[0m \u001b[1;32mimport\u001b[0m \u001b[0mImage\u001b[0m \u001b[1;32mas\u001b[0m \u001b[0mwi\u001b[0m\u001b[1;33m\u001b[0m\u001b[1;33m\u001b[0m\u001b[0m\n\u001b[0m\u001b[0;32m      6\u001b[0m \u001b[1;32mimport\u001b[0m \u001b[0mgc\u001b[0m\u001b[1;33m\u001b[0m\u001b[1;33m\u001b[0m\u001b[0m\n\u001b[0;32m      7\u001b[0m \u001b[1;33m\u001b[0m\u001b[0m\n",
      "\u001b[1;32m~\\Anaconda3\\lib\\site-packages\\wand\\image.py\u001b[0m in \u001b[0;36m<module>\u001b[1;34m\u001b[0m\n\u001b[0;32m     16\u001b[0m \u001b[1;32mimport\u001b[0m \u001b[0mweakref\u001b[0m\u001b[1;33m\u001b[0m\u001b[1;33m\u001b[0m\u001b[0m\n\u001b[0;32m     17\u001b[0m \u001b[1;33m\u001b[0m\u001b[0m\n\u001b[1;32m---> 18\u001b[1;33m \u001b[1;32mfrom\u001b[0m \u001b[1;33m.\u001b[0m \u001b[1;32mimport\u001b[0m \u001b[0massertions\u001b[0m\u001b[1;33m\u001b[0m\u001b[1;33m\u001b[0m\u001b[0m\n\u001b[0m\u001b[0;32m     19\u001b[0m \u001b[1;32mfrom\u001b[0m \u001b[1;33m.\u001b[0m\u001b[0mapi\u001b[0m \u001b[1;32mimport\u001b[0m \u001b[0mlibc\u001b[0m\u001b[1;33m,\u001b[0m \u001b[0mlibmagick\u001b[0m\u001b[1;33m,\u001b[0m \u001b[0mlibrary\u001b[0m\u001b[1;33m\u001b[0m\u001b[1;33m\u001b[0m\u001b[0m\n\u001b[0;32m     20\u001b[0m \u001b[1;32mfrom\u001b[0m \u001b[1;33m.\u001b[0m\u001b[0mcolor\u001b[0m \u001b[1;32mimport\u001b[0m \u001b[0mColor\u001b[0m\u001b[1;33m\u001b[0m\u001b[1;33m\u001b[0m\u001b[0m\n",
      "\u001b[1;32m~\\Anaconda3\\lib\\site-packages\\wand\\assertions.py\u001b[0m in \u001b[0;36m<module>\u001b[1;34m\u001b[0m\n\u001b[0;32m    153\u001b[0m \u001b[1;33m\u001b[0m\u001b[0m\n\u001b[0;32m    154\u001b[0m \u001b[1;31m# Lazy load recursive import\u001b[0m\u001b[1;33m\u001b[0m\u001b[1;33m\u001b[0m\u001b[1;33m\u001b[0m\u001b[0m\n\u001b[1;32m--> 155\u001b[1;33m \u001b[1;32mfrom\u001b[0m \u001b[1;33m.\u001b[0m\u001b[0mcolor\u001b[0m \u001b[1;32mimport\u001b[0m \u001b[0mColor\u001b[0m  \u001b[1;31m# noqa: E402\u001b[0m\u001b[1;33m\u001b[0m\u001b[1;33m\u001b[0m\u001b[0m\n\u001b[0m",
      "\u001b[1;32m~\\Anaconda3\\lib\\site-packages\\wand\\color.py\u001b[0m in \u001b[0;36m<module>\u001b[1;34m\u001b[0m\n\u001b[0;32m      8\u001b[0m \u001b[1;32mimport\u001b[0m \u001b[0mnumbers\u001b[0m\u001b[1;33m\u001b[0m\u001b[1;33m\u001b[0m\u001b[0m\n\u001b[0;32m      9\u001b[0m \u001b[1;33m\u001b[0m\u001b[0m\n\u001b[1;32m---> 10\u001b[1;33m \u001b[1;32mfrom\u001b[0m \u001b[1;33m.\u001b[0m\u001b[0mapi\u001b[0m \u001b[1;32mimport\u001b[0m \u001b[0mlibrary\u001b[0m\u001b[1;33m\u001b[0m\u001b[1;33m\u001b[0m\u001b[0m\n\u001b[0m\u001b[0;32m     11\u001b[0m \u001b[1;32mfrom\u001b[0m \u001b[1;33m.\u001b[0m\u001b[0mcdefs\u001b[0m\u001b[1;33m.\u001b[0m\u001b[0mstructures\u001b[0m \u001b[1;32mimport\u001b[0m \u001b[0mMagickPixelPacket\u001b[0m\u001b[1;33m,\u001b[0m \u001b[0mPixelInfo\u001b[0m\u001b[1;33m\u001b[0m\u001b[1;33m\u001b[0m\u001b[0m\n\u001b[0;32m     12\u001b[0m \u001b[1;32mfrom\u001b[0m \u001b[1;33m.\u001b[0m\u001b[0mcompat\u001b[0m \u001b[1;32mimport\u001b[0m \u001b[0mbinary\u001b[0m\u001b[1;33m,\u001b[0m \u001b[0mtext\u001b[0m\u001b[1;33m\u001b[0m\u001b[1;33m\u001b[0m\u001b[0m\n",
      "\u001b[1;32m~\\Anaconda3\\lib\\site-packages\\wand\\api.py\u001b[0m in \u001b[0;36m<module>\u001b[1;34m\u001b[0m\n\u001b[0;32m    175\u001b[0m     raise ImportError('MagickWand shared library not found.\\n'\n\u001b[0;32m    176\u001b[0m                       \u001b[1;34m'You probably had not installed ImageMagick library.\\n'\u001b[0m\u001b[1;33m\u001b[0m\u001b[1;33m\u001b[0m\u001b[0m\n\u001b[1;32m--> 177\u001b[1;33m                       'Try to install:\\n  ' + msg)\n\u001b[0m\u001b[0;32m    178\u001b[0m \u001b[1;33m\u001b[0m\u001b[0m\n\u001b[0;32m    179\u001b[0m \u001b[1;31m#: (:class:`ctypes.CDLL`) The MagickWand library.\u001b[0m\u001b[1;33m\u001b[0m\u001b[1;33m\u001b[0m\u001b[1;33m\u001b[0m\u001b[0m\n",
      "\u001b[1;31mImportError\u001b[0m: MagickWand shared library not found.\nYou probably had not installed ImageMagick library.\nTry to install:\n  http://docs.wand-py.org/en/latest/guide/install.html#install-imagemagick-on-windows"
     ]
    }
   ],
   "source": [
    "import os\n",
    "import io\n",
    "from pil import Image\n",
    "import pytesseract\n",
    "from wand.image import Image as wi\n",
    "import gc\n",
    "\n",
    "def Get_text_from_image(pdf_path):\n",
    "    pdf=wi(filename=pdf_path,resolution=300)\n",
    "    pdfImg=pdf.convert('jpeg')\n",
    "    imgBlobs=[]\n",
    "    extracted_text=[]\n",
    "    for img in pdfImg.sequence:\n",
    "        page=wi(image=img)\n",
    "        imgBlobs.append(page.make_blob('jpeg'))\n",
    "    for imgBlob in imgBlobs:\n",
    "        im=Image.open(io.BytesIO(imgBlob))\n",
    "        text=pytesseract.image_to_string(im,lang='eng')\n",
    "        extracted_text.append(text)\n",
    "    return ([i.replace(\"\\n\",\"\") for i in extracted_text])\n",
    "\n",
    "\n",
    "Get_text_from_image(\"C:\\\\Users\\\\hp\\\\Desktop\\\\New folder\\\\INE857Q08024.pdf\")"
   ]
  },
  {
   "cell_type": "code",
   "execution_count": null,
   "metadata": {},
   "outputs": [],
   "source": []
  },
  {
   "cell_type": "code",
   "execution_count": null,
   "metadata": {},
   "outputs": [],
   "source": []
  }
 ],
 "metadata": {
  "kernelspec": {
   "display_name": "Python 3",
   "language": "python",
   "name": "python3"
  },
  "language_info": {
   "codemirror_mode": {
    "name": "ipython",
    "version": 3
   },
   "file_extension": ".py",
   "mimetype": "text/x-python",
   "name": "python",
   "nbconvert_exporter": "python",
   "pygments_lexer": "ipython3",
   "version": "3.7.4"
  }
 },
 "nbformat": 4,
 "nbformat_minor": 2
}
