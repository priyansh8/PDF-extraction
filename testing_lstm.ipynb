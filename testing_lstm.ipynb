{
 "cells": [
  {
   "cell_type": "code",
   "execution_count": 14,
   "metadata": {
    "_cell_guid": "b1076dfc-b9ad-4769-8c92-a6c4dae69d19",
    "_uuid": "8f2839f25d086af736a60e9eeb907d3b93b6e0e5"
   },
   "outputs": [],
   "source": [
    "# This Python 3 environment comes with many helpful analytics libraries installed\n",
    "# It is defined by the kaggle/python docker image: https://github.com/kaggle/docker-python\n",
    "# For example, here's several helpful packages to load in \n",
    "\n",
    "import numpy as np # linear algebra\n",
    "import pandas as pd # data processing, CSV file I/O (e.g. pd.read_csv)\n",
    "from keras.preprocessing.text import Tokenizer\n",
    "from keras.preprocessing.sequence import pad_sequences\n",
    "from keras.models import Sequential\n",
    "from keras.layers import Dense, Embedding, LSTM, ConvLSTM2D, SpatialDropout1D,Bidirectional, Dropout, Conv1D, MaxPooling1D\n",
    "import keras\n",
    "import re\n",
    "import nltk\n",
    "from nltk.corpus import stopwords\n",
    "from nltk.tokenize import word_tokenize\n",
    "from nltk.stem import WordNetLemmatizer\n",
    "from sklearn.model_selection import train_test_split\n",
    "from sklearn.metrics import classification_report, accuracy_score, confusion_matrix\n",
    "\n",
    "# Input data files are available in the \"../input/\" directory.\n",
    "# For example, running this (by clicking run or pressing Shift+Enter) will list all files under the input directory\n",
    "\n",
    "# import os\n",
    "# for dirname, _, filenames in os.walk('/kaggle/input'):\n",
    "#     for filename in filenames:\n",
    "#         print(os.path.join(dirname, filename))\n",
    "\n",
    "# Any results you write to the current directory are saved as output."
   ]
  },
  {
   "cell_type": "code",
   "execution_count": 15,
   "metadata": {
    "_cell_guid": "79c7e3d0-c299-4dcb-8224-4455121ee9b0",
    "_uuid": "d629ff2d2480ee46fbb7e2d37f6b5fab8052498a"
   },
   "outputs": [],
   "source": [
    "df_train = pd.read_csv(\"E:\\\\projects\\\\feature extraction\\\\Documents\\\\train1.csv\", encoding='cp1252')\n",
    "df_test = pd.read_csv(\"E:\\\\projects\\\\feature extraction\\\\Documents\\\\test1.csv\", encoding='cp1252')\n"
   ]
  },
  {
   "cell_type": "code",
   "execution_count": 16,
   "metadata": {},
   "outputs": [
    {
     "name": "stdout",
     "output_type": "stream",
     "text": [
      "                                                Text Label\n",
      "0  Issue of U.S.$1,300,000,000 3.389 per cent. Tr...    No\n",
      "1  Issue Price: 100 per cent. of the Aggregate No...   Yes\n",
      "2  As set out above, the yield is calculated at t...    No\n",
      "3  Application has been made by the Issuer (or on...    No\n",
      "4                         Issue price: 100 per cent.   Yes\n",
      "5  Issue Price: 100 per cent. of the Aggregate No...   Yes\n",
      "6               Issue Terms dated 12 September 2017     No\n",
      "7  Issue of Series 2017-5 USD 400,000,000 Fixed R...    No\n",
      "8                               Issue Price: 99.425%   Yes\n",
      "9  Issue Price.................. 99.425% of the a...   Yes\n",
      "                                                text\n",
      "0   Issue Price: 102.853 per cent. of the Aggrega...\n",
      "1  Issue of U.S.$ 250,000,000 Certificates due 20...\n",
      "2                      Issue Date: 7 September 2016 \n",
      "3  Issue Price: 99.785 per cent. of the Aggregate...\n",
      "4  Aggregate Nominal Amount:  Series: U.S.$750,00...\n",
      "5            Issue of U.S.$750,000,000 3.70 per cent\n"
     ]
    }
   ],
   "source": [
    "print(df_train.head(10))\n",
    "print(df_test.head(10))"
   ]
  },
  {
   "cell_type": "code",
   "execution_count": 17,
   "metadata": {},
   "outputs": [
    {
     "data": {
      "text/html": [
       "<div>\n",
       "<style scoped>\n",
       "    .dataframe tbody tr th:only-of-type {\n",
       "        vertical-align: middle;\n",
       "    }\n",
       "\n",
       "    .dataframe tbody tr th {\n",
       "        vertical-align: top;\n",
       "    }\n",
       "\n",
       "    .dataframe thead th {\n",
       "        text-align: right;\n",
       "    }\n",
       "</style>\n",
       "<table border=\"1\" class=\"dataframe\">\n",
       "  <thead>\n",
       "    <tr style=\"text-align: right;\">\n",
       "      <th></th>\n",
       "      <th>Text</th>\n",
       "      <th>Label</th>\n",
       "    </tr>\n",
       "  </thead>\n",
       "  <tbody>\n",
       "    <tr>\n",
       "      <td>count</td>\n",
       "      <td>18</td>\n",
       "      <td>18</td>\n",
       "    </tr>\n",
       "    <tr>\n",
       "      <td>unique</td>\n",
       "      <td>18</td>\n",
       "      <td>2</td>\n",
       "    </tr>\n",
       "    <tr>\n",
       "      <td>top</td>\n",
       "      <td>The Company may, however, from time to time, ...</td>\n",
       "      <td>No</td>\n",
       "    </tr>\n",
       "    <tr>\n",
       "      <td>freq</td>\n",
       "      <td>1</td>\n",
       "      <td>10</td>\n",
       "    </tr>\n",
       "  </tbody>\n",
       "</table>\n",
       "</div>"
      ],
      "text/plain": [
       "                                                     Text Label\n",
       "count                                                  18    18\n",
       "unique                                                 18     2\n",
       "top      The Company may, however, from time to time, ...    No\n",
       "freq                                                    1    10"
      ]
     },
     "execution_count": 17,
     "metadata": {},
     "output_type": "execute_result"
    }
   ],
   "source": [
    "df_train.describe()"
   ]
  },
  {
   "cell_type": "code",
   "execution_count": 18,
   "metadata": {},
   "outputs": [
    {
     "name": "stdout",
     "output_type": "stream",
     "text": [
      "<class 'pandas.core.frame.DataFrame'>\n",
      "RangeIndex: 18 entries, 0 to 17\n",
      "Data columns (total 2 columns):\n",
      "Text     18 non-null object\n",
      "Label    18 non-null object\n",
      "dtypes: object(2)\n",
      "memory usage: 416.0+ bytes\n"
     ]
    }
   ],
   "source": [
    "df_train.info()"
   ]
  },
  {
   "cell_type": "code",
   "execution_count": 19,
   "metadata": {},
   "outputs": [
    {
     "data": {
      "text/plain": [
       "(18, 2)"
      ]
     },
     "execution_count": 19,
     "metadata": {},
     "output_type": "execute_result"
    }
   ],
   "source": [
    "df_train.shape"
   ]
  },
  {
   "cell_type": "code",
   "execution_count": 20,
   "metadata": {},
   "outputs": [
    {
     "data": {
      "text/html": [
       "<div>\n",
       "<style scoped>\n",
       "    .dataframe tbody tr th:only-of-type {\n",
       "        vertical-align: middle;\n",
       "    }\n",
       "\n",
       "    .dataframe tbody tr th {\n",
       "        vertical-align: top;\n",
       "    }\n",
       "\n",
       "    .dataframe thead th {\n",
       "        text-align: right;\n",
       "    }\n",
       "</style>\n",
       "<table border=\"1\" class=\"dataframe\">\n",
       "  <thead>\n",
       "    <tr style=\"text-align: right;\">\n",
       "      <th></th>\n",
       "      <th>Text</th>\n",
       "      <th>Label</th>\n",
       "    </tr>\n",
       "  </thead>\n",
       "  <tbody>\n",
       "    <tr>\n",
       "      <td>0</td>\n",
       "      <td>Issue of U.S.$1,300,000,000 3.389 per cent. Tr...</td>\n",
       "      <td>No</td>\n",
       "    </tr>\n",
       "    <tr>\n",
       "      <td>1</td>\n",
       "      <td>Issue Price: 100 per cent. of the Aggregate No...</td>\n",
       "      <td>Yes</td>\n",
       "    </tr>\n",
       "    <tr>\n",
       "      <td>2</td>\n",
       "      <td>As set out above, the yield is calculated at t...</td>\n",
       "      <td>No</td>\n",
       "    </tr>\n",
       "    <tr>\n",
       "      <td>3</td>\n",
       "      <td>Application has been made by the Issuer (or on...</td>\n",
       "      <td>No</td>\n",
       "    </tr>\n",
       "    <tr>\n",
       "      <td>4</td>\n",
       "      <td>Issue price: 100 per cent.</td>\n",
       "      <td>Yes</td>\n",
       "    </tr>\n",
       "  </tbody>\n",
       "</table>\n",
       "</div>"
      ],
      "text/plain": [
       "                                                Text Label\n",
       "0  Issue of U.S.$1,300,000,000 3.389 per cent. Tr...    No\n",
       "1  Issue Price: 100 per cent. of the Aggregate No...   Yes\n",
       "2  As set out above, the yield is calculated at t...    No\n",
       "3  Application has been made by the Issuer (or on...    No\n",
       "4                         Issue price: 100 per cent.   Yes"
      ]
     },
     "execution_count": 20,
     "metadata": {},
     "output_type": "execute_result"
    }
   ],
   "source": [
    "# df_train['text'] = pd.DataFrame(l1)\n",
    "\n",
    "df_train.head()"
   ]
  },
  {
   "cell_type": "code",
   "execution_count": 21,
   "metadata": {},
   "outputs": [
    {
     "name": "stdout",
     "output_type": "stream",
     "text": [
      "                                                 Text  Label\n",
      "0   Issue of U.S.$1,300,000,000 3.389 per cent. Tr...      0\n",
      "1   Issue Price: 100 per cent. of the Aggregate No...      1\n",
      "2   As set out above, the yield is calculated at t...      0\n",
      "3   Application has been made by the Issuer (or on...      0\n",
      "4                          Issue price: 100 per cent.      1\n",
      "5   Issue Price: 100 per cent. of the Aggregate No...      1\n",
      "6                Issue Terms dated 12 September 2017       0\n",
      "7   Issue of Series 2017-5 USD 400,000,000 Fixed R...      0\n",
      "8                                Issue Price: 99.425%      1\n",
      "9   Issue Price.................. 99.425% of the a...      1\n",
      "10   The Company may, however, from time to time, ...      0\n",
      "11                       Issuer: JPMorgan Chase & Co.      0\n",
      "12   Issue Price: 100 per cent. of the Aggregate N...      1\n",
      "13                            Issue Date: 11 May 2017      0\n",
      "14  The Issue Price specified above may be more th...      0\n",
      "15   The aggregate principal amount of Notes issue...      0\n",
      "16  The issue price of the €180,000,000 4.25 per c...      1\n",
      "17   the issue price of the Notes of 1 00.00 per c...      1\n"
     ]
    }
   ],
   "source": [
    "df_train['Label'] = df_train.Label.eq('Yes').mul(1)\n",
    "\n",
    "print(df_train)"
   ]
  },
  {
   "cell_type": "code",
   "execution_count": 22,
   "metadata": {},
   "outputs": [
    {
     "name": "stdout",
     "output_type": "stream",
     "text": [
      "0     0\n",
      "1     1\n",
      "2     0\n",
      "3     0\n",
      "4     1\n",
      "5     1\n",
      "6     0\n",
      "7     0\n",
      "8     1\n",
      "9     1\n",
      "10    0\n",
      "11    0\n",
      "12    1\n",
      "13    0\n",
      "14    0\n",
      "15    0\n",
      "16    1\n",
      "17    1\n",
      "Name: Label, dtype: int32\n"
     ]
    }
   ],
   "source": [
    "X = df_train['Text']\n",
    "y = df_train['Label']\n",
    "\n",
    "print(y)"
   ]
  },
  {
   "cell_type": "code",
   "execution_count": 23,
   "metadata": {},
   "outputs": [
    {
     "name": "stdout",
     "output_type": "stream",
     "text": [
      "Model: \"sequential_2\"\n",
      "_________________________________________________________________\n",
      "Layer (type)                 Output Shape              Param #   \n",
      "=================================================================\n",
      "embedding_2 (Embedding)      (None, 250, 128)          384000    \n",
      "_________________________________________________________________\n",
      "bidirectional_2 (Bidirection (None, 128)               98816     \n",
      "_________________________________________________________________\n",
      "dropout_4 (Dropout)          (None, 128)               0         \n",
      "_________________________________________________________________\n",
      "dense_4 (Dense)              (None, 32)                4128      \n",
      "_________________________________________________________________\n",
      "dropout_5 (Dropout)          (None, 32)                0         \n",
      "_________________________________________________________________\n",
      "dense_5 (Dense)              (None, 16)                528       \n",
      "_________________________________________________________________\n",
      "dropout_6 (Dropout)          (None, 16)                0         \n",
      "_________________________________________________________________\n",
      "dense_6 (Dense)              (None, 1)                 17        \n",
      "=================================================================\n",
      "Total params: 487,489\n",
      "Trainable params: 487,489\n",
      "Non-trainable params: 0\n",
      "_________________________________________________________________\n"
     ]
    }
   ],
   "source": [
    "max_features = 3000\n",
    "maxlen = 250\n",
    "\n",
    "tokenizer = Tokenizer(num_words=max_features)\n",
    "tokenizer.fit_on_texts(df_train.Text.values)\n",
    "\n",
    "# Pad the data \n",
    "X = tokenizer.texts_to_sequences(df_train.Text.values)\n",
    "X = pad_sequences(X, maxlen=maxlen)\n",
    "\n",
    "X_final = tokenizer.texts_to_sequences(df_test.text.values)\n",
    "X_final =  pad_sequences(X_final, maxlen=maxlen)\n",
    "\n",
    "X_train, X_test, Y_train, Y_test = train_test_split(\n",
    "    X, \n",
    "    df_train.Label, \n",
    "    test_size = 0.33, \n",
    "    random_state = 42\n",
    ")\n",
    "    \n",
    "model = Sequential()\n",
    "model.add(Embedding(max_features, 128, input_length=maxlen))\n",
    "model.add(Bidirectional(LSTM(units = 64, recurrent_dropout=0.2)))\n",
    "model.add(Dropout(0.5))\n",
    "model.add(Dense(units = 32, activation='relu'))\n",
    "model.add(Dropout(0.2))\n",
    "model.add(Dense(units = 16, activation='relu'))\n",
    "model.add(Dropout(0.2))\n",
    "model.add(Dense(1, activation='sigmoid'))\n",
    "model.compile(loss='binary_crossentropy', optimizer='adam', metrics=['accuracy'])\n",
    "model.summary()"
   ]
  },
  {
   "cell_type": "code",
   "execution_count": 24,
   "metadata": {},
   "outputs": [
    {
     "name": "stdout",
     "output_type": "stream",
     "text": [
      "WARNING:tensorflow:From C:\\Users\\hp\\Anaconda3\\lib\\site-packages\\keras\\backend\\tensorflow_backend.py:422: The name tf.global_variables is deprecated. Please use tf.compat.v1.global_variables instead.\n",
      "\n",
      "Train on 12 samples, validate on 6 samples\n",
      "Epoch 1/10\n",
      "12/12 [==============================] - 6s 466ms/step - loss: 0.6889 - accuracy: 0.6667 - val_loss: 0.6936 - val_accuracy: 0.3333\n",
      "Epoch 2/10\n",
      "12/12 [==============================] - 1s 123ms/step - loss: 0.6958 - accuracy: 0.4167 - val_loss: 0.6931 - val_accuracy: 0.5000\n",
      "Epoch 3/10\n",
      "12/12 [==============================] - 1s 118ms/step - loss: 0.6959 - accuracy: 0.5000 - val_loss: 0.6928 - val_accuracy: 0.5000\n",
      "Epoch 4/10\n",
      "12/12 [==============================] - 1s 119ms/step - loss: 0.6939 - accuracy: 0.5000 - val_loss: 0.6925 - val_accuracy: 0.5000\n",
      "Epoch 5/10\n",
      "12/12 [==============================] - 1s 117ms/step - loss: 0.6898 - accuracy: 0.5833 - val_loss: 0.6923 - val_accuracy: 0.5000\n",
      "Epoch 6/10\n",
      "12/12 [==============================] - 1s 118ms/step - loss: 0.6826 - accuracy: 0.7500 - val_loss: 0.6920 - val_accuracy: 0.5000\n",
      "Epoch 7/10\n",
      "12/12 [==============================] - 1s 116ms/step - loss: 0.6877 - accuracy: 0.5833 - val_loss: 0.6917 - val_accuracy: 0.5000\n",
      "Epoch 8/10\n",
      "12/12 [==============================] - 1s 116ms/step - loss: 0.6911 - accuracy: 0.5833 - val_loss: 0.6914 - val_accuracy: 0.5000\n",
      "Epoch 9/10\n",
      "12/12 [==============================] - 1s 116ms/step - loss: 0.6871 - accuracy: 0.7500 - val_loss: 0.6913 - val_accuracy: 0.5000\n",
      "Epoch 10/10\n",
      "12/12 [==============================] - 1s 117ms/step - loss: 0.6831 - accuracy: 0.5833 - val_loss: 0.6909 - val_accuracy: 0.5000\n"
     ]
    },
    {
     "data": {
      "text/plain": [
       "<keras.callbacks.callbacks.History at 0x233d4ddf1c8>"
      ]
     },
     "execution_count": 24,
     "metadata": {},
     "output_type": "execute_result"
    }
   ],
   "source": [
    "model.fit(\n",
    "    X_train, \n",
    "    Y_train,\n",
    "    batch_size = 64,\n",
    "    epochs = 10,\n",
    "    verbose = 1,\n",
    "    validation_data=(X_test, Y_test),\n",
    ")"
   ]
  },
  {
   "cell_type": "code",
   "execution_count": 25,
   "metadata": {},
   "outputs": [
    {
     "name": "stdout",
     "output_type": "stream",
     "text": [
      "6/6 [==============================] - 0s 22ms/step\n",
      "loss:  0.6908762454986572 \n",
      "acc:  0.5\n",
      "\n",
      "Teste\n",
      "               precision    recall  f1-score   support\n",
      "\n",
      "           0       0.50      1.00      0.67         3\n",
      "           1       0.00      0.00      0.00         3\n",
      "\n",
      "    accuracy                           0.50         6\n",
      "   macro avg       0.25      0.50      0.33         6\n",
      "weighted avg       0.25      0.50      0.33         6\n",
      "\n",
      "\n",
      "Treino\n",
      "               precision    recall  f1-score   support\n",
      "\n",
      "           0       0.58      1.00      0.74         7\n",
      "           1       0.00      0.00      0.00         5\n",
      "\n",
      "    accuracy                           0.58        12\n",
      "   macro avg       0.29      0.50      0.37        12\n",
      "weighted avg       0.34      0.58      0.43        12\n",
      "\n"
     ]
    },
    {
     "name": "stderr",
     "output_type": "stream",
     "text": [
      "C:\\Users\\hp\\Anaconda3\\lib\\site-packages\\sklearn\\metrics\\_classification.py:1272: UndefinedMetricWarning: Precision and F-score are ill-defined and being set to 0.0 in labels with no predicted samples. Use `zero_division` parameter to control this behavior.\n",
      "  _warn_prf(average, modifier, msg_start, len(result))\n"
     ]
    }
   ],
   "source": [
    "score, acc = model.evaluate(X_test, Y_test, batch_size = 32)\n",
    "y_pred_train = model.predict_classes(X_train)\n",
    "y_pred_test = model.predict_classes(X_test)\n",
    "\n",
    "print(\"loss: \", score, \"\\nacc: \",acc)\n",
    "print(\"\\nTeste\\n\", classification_report(Y_test, y_pred_test))\n",
    "print(\"\\nTreino\\n\", classification_report(Y_train, y_pred_train))"
   ]
  },
  {
   "cell_type": "code",
   "execution_count": 26,
   "metadata": {},
   "outputs": [
    {
     "name": "stdout",
     "output_type": "stream",
     "text": [
      "[[0]\n",
      " [0]\n",
      " [0]\n",
      " [0]\n",
      " [0]\n",
      " [0]]\n"
     ]
    }
   ],
   "source": [
    "#model = model.fit(data_train.text, data_train.target)\n",
    "y_preds = model.predict_classes(X_final)\n",
    "print(y_preds)"
   ]
  },
  {
   "cell_type": "code",
   "execution_count": 32,
   "metadata": {},
   "outputs": [],
   "source": [
    "s =\"Serial Number:  7277 ISIN:  CA13607GFB55 Principal Amount:  C$1,500,000,000 Issue Date:  August 28, 2019 Maturity Date:  August 28, 2024 Issue Price: 100% Coupon Rate:  2.35%\""
   ]
  },
  {
   "cell_type": "code",
   "execution_count": 52,
   "metadata": {},
   "outputs": [
    {
     "name": "stdout",
     "output_type": "stream",
     "text": [
      "issue price\n",
      "[':', '100%', 'coupon', 'rate:']\n"
     ]
    }
   ],
   "source": [
    "s =\"Serial Number:  7277 ISIN:  CA13607GFB55 Principal Amount:  C$1,500,000,000 Issue Date:  August 28, 2019 Maturity Date:  August 28, 2024 Issue Price: 100% Coupon Rate:  2.35%\"\n",
    "sub = \"issue price\"\n",
    "s = s.lower()\n",
    "t = s.partition(sub)[2]\n",
    "print(s.partition(sub)[1])\n",
    "prilist = t.split(\" \")\n",
    "for i in range(len(prilist)):\n",
    "    if(not prilist[i].isalnum()):\n",
    "        print(prilist[i:i+4])\n",
    "        break"
   ]
  },
  {
   "cell_type": "code",
   "execution_count": null,
   "metadata": {},
   "outputs": [],
   "source": []
  },
  {
   "cell_type": "code",
   "execution_count": null,
   "metadata": {},
   "outputs": [],
   "source": []
  }
 ],
 "metadata": {
  "kernelspec": {
   "display_name": "Python 3",
   "language": "python",
   "name": "python3"
  },
  "language_info": {
   "codemirror_mode": {
    "name": "ipython",
    "version": 3
   },
   "file_extension": ".py",
   "mimetype": "text/x-python",
   "name": "python",
   "nbconvert_exporter": "python",
   "pygments_lexer": "ipython3",
   "version": "3.7.4"
  }
 },
 "nbformat": 4,
 "nbformat_minor": 1
}
